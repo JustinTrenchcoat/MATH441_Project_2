{
 "cells": [
  {
   "cell_type": "markdown",
   "metadata": {},
   "source": [
    "##### DO NOT TOUCH THIS PART, DATA HAS BEEN GENERATED AND SAVED AS \"complete_data.csv\""
   ]
  },
  {
   "cell_type": "code",
   "execution_count": 1,
   "metadata": {},
   "outputs": [],
   "source": [
    "# Import Packages\n",
    "import numpy as np\n",
    "import cvxpy as cp\n",
    "import pandas as pd\n",
    "import matplotlib.pyplot as plt"
   ]
  },
  {
   "cell_type": "code",
   "execution_count": null,
   "metadata": {},
   "outputs": [],
   "source": [
    "# Data Loading\n",
    "df = pd.read_csv('data/used_cars.csv')\n",
    "print(list(df.columns))\n",
    "\n",
    "# data cleaning\n",
    "df = df.dropna()\n",
    "df_new = df[df['fuel_type'] != \"not supported\"]\n",
    "print(df_new['fuel_type'].unique())\n",
    "df_new = df_new[df_new['fuel_type'] != '–']\n",
    "\n",
    "df_new.drop(columns=[\"model_year\", \"milage\",\"engine\",\"transmission\",\"ext_col\",\"int_col\",\"accident\",\"clean_title\"], inplace=True)\n",
    "\n",
    "# Remove the dollar sign and convert to numeric\n",
    "df_new['price'] = df_new['price'].str.replace(r'[$,]', '', regex=True).astype(float)\n",
    "print(df_new.head())"
   ]
  },
  {
   "cell_type": "code",
   "execution_count": null,
   "metadata": {},
   "outputs": [],
   "source": [
    "df_new[\"Depreciation Rate\"] = [\n",
    "    0.5 if type == \"Plug_In Hybrid\" else\n",
    "    0.65 if type == \"Hybrid\" else\n",
    "    0.7 if type == 'E85 Flex Fuel' else\n",
    "    0.80 if type == \"Gasoline\" else\n",
    "    0.95\n",
    "    for type in df_new[\"fuel_type\"]\n",
    "]\n",
    "df_new[\"Carbon Tax\"] = [\n",
    "    500 if type == \"Diesel\" else\n",
    "    200 if type == \"Gasoline\" else\n",
    "    150 if type == 'E85 Flex Fuel' else\n",
    "    120 if type == \"Hybrid\" else\n",
    "    50\n",
    "    for type in df_new[\"fuel_type\"]\n",
    "]\n",
    "df_new[\"Buying Price\"] = df_new[\"price\"]*df_new[\"Depreciation Rate\"] + df_new[\"Carbon Tax\"]\n",
    "df_new[\"Profit\"] = df_new[\"price\"]-df_new[\"Buying Price\"]\n",
    "# Create the \"imported\" column, default hybrid and plug-in hybrid rows to 0\n",
    "df_new['imported'] = np.where(df_new['fuel_type'].isin(['Plug-In Hybrid', 'Hybrid']), 0, np.nan)\n",
    "# Randomly assign 0 or 1 to the rest of the rows\n",
    "df_new['imported'] = df_new['imported'].apply(lambda x: np.random.choice([0, 1]) if np.isnan(x) else x)\n",
    "print(df_new.head())\n",
    "# add random things:\n",
    "df_new[\"size\"] = np.random.randint(8,11,size=len(df_new))\n",
    "print(df_new.head())"
   ]
  },
  {
   "cell_type": "code",
   "execution_count": null,
   "metadata": {},
   "outputs": [],
   "source": [
    "df_new.to_csv(\"data/complete_data.csv\", index=False)"
   ]
  }
 ],
 "metadata": {
  "kernelspec": {
   "display_name": "base",
   "language": "python",
   "name": "python3"
  },
  "language_info": {
   "codemirror_mode": {
    "name": "ipython",
    "version": 3
   },
   "file_extension": ".py",
   "mimetype": "text/x-python",
   "name": "python",
   "nbconvert_exporter": "python",
   "pygments_lexer": "ipython3",
   "version": "3.12.8"
  }
 },
 "nbformat": 4,
 "nbformat_minor": 2
}
