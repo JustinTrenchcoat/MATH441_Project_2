{
 "cells": [
  {
   "cell_type": "code",
   "execution_count": 2,
   "metadata": {},
   "outputs": [],
   "source": [
    "# Import Packages\n",
    "import numpy as np\n",
    "import cvxpy as cp\n",
    "import pandas as pd\n",
    "import matplotlib.pyplot as plt\n",
    "# Import functions\n",
    "from my_functions import *"
   ]
  },
  {
   "cell_type": "code",
   "execution_count": 3,
   "metadata": {},
   "outputs": [],
   "source": [
    "df_new = pd.read_csv('data/complete_data.csv')\n",
    "# total number of cars \n",
    "N = len(df_new)\n",
    "# value of cars varies\n",
    "profit = df_new['Profit']\n",
    "# size of the cars varies\n",
    "size = df_new[\"size\"]\n",
    "# total size of all cars\n",
    "total_size = np.sum(size)\n",
    "# parking lot capacity\n",
    "parkCapacity = 2*total_size/3\n",
    "\n",
    "# Buying price for each car\n",
    "buy_price = df_new[\"Buying Price\"]\n",
    "# total amount of buying cost\n",
    "total_price = np.sum(buy_price)\n",
    "# total budget the dealership has\n",
    "dealBudget = total_price/4\n",
    "\n",
    "fee_electric = 300\n",
    "fee_imported = 1000"
   ]
  },
  {
   "cell_type": "code",
   "execution_count": null,
   "metadata": {},
   "outputs": [],
   "source": [
    "# Outputs\n",
    "infoPage(N, profit, total_size, buy_price, parkCapacity, dealBudget)\n",
    "print(\"---------------------------------------------------------------\")\n",
    "print(\"DealershipDecisionOptimizerSystem(DDOS) is working....\")\n",
    "# Solution\n",
    "\n",
    "#adjusting array sizes to accommodate for penalty fee dummy variables\n",
    "x = cp.Variable(N+2,integer=True)\n",
    "s_wdummy=np.append(size, [0, 0])\n",
    "b_wdummy=np.append(buy_price, [0, 0])\n",
    "profit_wdummy=np.append(profit, [-fee_electric, -fee_imported])\n",
    "\n",
    "#creating ILP set up with space and budget constraints\n",
    "obj = cp.Maximize(cp.sum(cp.multiply(profit_wdummy,x)))\n",
    "constraints = [cp.sum(cp.multiply(s_wdummy,x)) <= parkCapacity,\n",
    "               cp.sum(cp.multiply(b_wdummy,x)) <= dealBudget,\n",
    "               x <= 1, x >= 0]\n",
    "\n",
    "#adding constraints for dummy e>=x_j, e<= sum(x_j) for all electric cars j and i>=x_k, i<=sum(x_k) for all imported cars k\n",
    "e_sum=np.zeros(N+2)\n",
    "i_sum=np.zeros(N+2)\n",
    "\n",
    "df_new = df_new.reset_index(drop=True)\n",
    "for k in range(len(df_new)):\n",
    "    if ((df_new.loc[k, 'fuel_type'].lower() == 'Hybrid') or (df_new.loc[k, 'fuel_type'].lower() == 'Plug-In Hybrid')):\n",
    "        constraints.append(x[k] >= x[N-2])\n",
    "        e_sum[k]=1\n",
    "    elif df_new.loc[k, 'imported'] == '1':\n",
    "        constraints.append(x[k] >= x[N-1])\n",
    "        i_sum[k]=1\n",
    "\n",
    "constraints.append(cp.sum(cp.multiply(e_sum,x)) <= x[N-2])\n",
    "constraints.append(cp.sum(cp.multiply(i_sum,x)) <= x[N-1])\n",
    "\t\n",
    "prob = cp.Problem(obj,constraints)\n",
    "prob.solve()\n",
    "print(\"---------------------------------------------------------------\")\n",
    "print(np.sum(x.value), \"cars sold\")\n",
    "print(\"Profit: $\", profit_wdummy@x.value)\n",
    "print(\"Actual Size of cars sold: \", s_wdummy@x.value, \"m^2\")\n",
    "print(\"Actual budget spent: $\", b_wdummy@x.value)"
   ]
  }
 ],
 "metadata": {
  "kernelspec": {
   "display_name": "base",
   "language": "python",
   "name": "python3"
  },
  "language_info": {
   "codemirror_mode": {
    "name": "ipython",
    "version": 3
   },
   "file_extension": ".py",
   "mimetype": "text/x-python",
   "name": "python",
   "nbconvert_exporter": "python",
   "pygments_lexer": "ipython3",
   "version": "3.12.8"
  }
 },
 "nbformat": 4,
 "nbformat_minor": 2
}
