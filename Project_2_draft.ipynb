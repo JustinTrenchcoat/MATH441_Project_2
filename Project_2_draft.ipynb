{
 "cells": [
  {
   "cell_type": "code",
   "execution_count": 1,
   "id": "3e527a7e-a586-41e4-b486-060887f3e803",
   "metadata": {},
   "outputs": [],
   "source": [
    "# test project for Proj2\n",
    "import numpy as np\n",
    "import cvxpy as cp\n",
    "import pandas as pd"
   ]
  },
  {
   "cell_type": "markdown",
   "id": "3f787f47-b5c8-42ff-855a-e7abd86eb0ed",
   "metadata": {},
   "source": []
  },
  {
   "cell_type": "code",
   "execution_count": 28,
   "id": "f1a5c776-f895-450e-a4ca-acf980f581a5",
   "metadata": {},
   "outputs": [
    {
     "name": "stdout",
     "output_type": "stream",
     "text": [
      "Values = [ 51 226 113 276  54 203 144 187 132  77]\n",
      "Size = [8 3 6 3 4 6 4 6 8 8]\n",
      "Capacity = 30\n",
      "Carbon tax amount =  77\n"
     ]
    }
   ],
   "source": [
    "# we have ten cars waiting to be chosen\n",
    "N = 10\n",
    "# value of cars varies\n",
    "v = np.random.randint(40,300,N)\n",
    "\n",
    "\n",
    "# size of the cars varies\n",
    "s = np.random.randint(3,9,N)\n",
    "# total size of all cars\n",
    "size = np.sum(s)\n",
    "# parking lot capacity\n",
    "S = np.random.randint(size//2,2*size//3)\n",
    "\n",
    "# carbon tax for each car\n",
    "c = np.random.randint(10,20,N)\n",
    "# total amount of carbon tax\n",
    "tax = np.sum(c)\n",
    "# total carbon tax the dealership would pay\n",
    "C = np.random.randint(tax//2,2*tax//3)\n",
    "\n",
    "print(\"Values =\",v)\n",
    "print(\"Size =\",s)\n",
    "print(\"Capacity =\",S)\n",
    "print(\"Carbon tax amount = \", C)\n"
   ]
  },
  {
   "cell_type": "code",
   "execution_count": 31,
   "id": "a376f221",
   "metadata": {},
   "outputs": [
    {
     "name": "stdout",
     "output_type": "stream",
     "text": [
      "2\n",
      "4\n",
      "6\n",
      "8\n",
      "9\n",
      "[-0.  1. -0.  1. -0.  1. -0.  1.  1. -0.]\n",
      "1024.0\n",
      "26.0\n",
      "76.0\n"
     ]
    }
   ],
   "source": [
    "\n",
    "# Solution\n",
    "x = cp.Variable(N,integer=True)\n",
    "obj = cp.Maximize(cp.sum(cp.multiply(v,x)))\n",
    "constraints = [cp.sum(cp.multiply(s,x)) <= S,\n",
    "               cp.sum(cp.multiply(c,x)) <= C,\n",
    "                 x <= 1, x >= 0]\n",
    "prob = cp.Problem(obj,constraints)\n",
    "prob.solve()\n",
    "\n",
    "counter = 1\n",
    "for i in x.value:\n",
    "    if i==1:\n",
    "      print(counter)\n",
    "    counter+=1\n",
    "\n",
    "print(x.value)\n",
    "\n",
    "print(v@x.value)\n",
    "print(s@x.value)\n",
    "print(c@x.value)"
   ]
  },
  {
   "cell_type": "code",
   "execution_count": null,
   "id": "0ffdb582",
   "metadata": {},
   "outputs": [
    {
     "name": "stdout",
     "output_type": "stream",
     "text": [
      "[ 6.38 75.33 18.83 92.   13.5  33.83 36.   31.17 16.5   9.62]\n",
      "3\n",
      "1\n",
      "6\n",
      "5\n",
      "7\n"
     ]
    }
   ],
   "source": []
  },
  {
   "cell_type": "code",
   "execution_count": null,
   "id": "6ef79208-131a-400c-af23-12455c36ab54",
   "metadata": {},
   "outputs": [
    {
     "data": {
      "text/plain": [
       "[np.int64(1), np.int64(3), np.int64(5), np.int64(6)]"
      ]
     },
     "execution_count": 33,
     "metadata": {},
     "output_type": "execute_result"
    }
   ],
   "source": []
  },
  {
   "cell_type": "code",
   "execution_count": null,
   "id": "4cad207d",
   "metadata": {},
   "outputs": [],
   "source": []
  }
 ],
 "metadata": {
  "kernelspec": {
   "display_name": "base",
   "language": "python",
   "name": "python3"
  },
  "language_info": {
   "codemirror_mode": {
    "name": "ipython",
    "version": 3
   },
   "file_extension": ".py",
   "mimetype": "text/x-python",
   "name": "python",
   "nbconvert_exporter": "python",
   "pygments_lexer": "ipython3",
   "version": "3.12.8"
  }
 },
 "nbformat": 4,
 "nbformat_minor": 5
}
