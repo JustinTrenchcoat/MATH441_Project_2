{
 "cells": [
  {
   "cell_type": "code",
   "execution_count": 1,
   "id": "3e527a7e-a586-41e4-b486-060887f3e803",
   "metadata": {},
   "outputs": [],
   "source": [
    "# test project for Proj2\n",
    "import numpy as np\n",
    "import cvxpy as cp\n",
    "import pandas as pd"
   ]
  },
  {
   "cell_type": "markdown",
   "id": "3f787f47-b5c8-42ff-855a-e7abd86eb0ed",
   "metadata": {},
   "source": [
    "## Knapsack Problem\n",
    "\n",
    "### Problem Statement\n",
    "\n",
    "We have a set of cars of different sizes and values and a parking lot at the dealership with a limited car capacity. How do we choose which cars to pack into the parking lot to maximize the total sale value?\n",
    "\n",
    "### Define Variables and Parameters\n",
    "\n",
    "* $N$ is the number of cars\n",
    "* $s_i$ is the size of car $i$\n",
    "* $v_i$ is the value of car $i$\n",
    "* $x_i$ is the decision variables: $x_i = 1$ if car $i$ is chosen and $x_i = 0$ if not\n",
    "* $c_i$ is the carbon tax of the car $i$\n",
    "* $C$ is the total carbon tax amount the dealership paid. \n",
    "* $S$ is the capacity of the parking lot\n",
    "\n",
    "### Identify Constraints and Make Assumptions\n",
    "\n",
    "* Total area of the parked items is less than the parking lot capacity"
   ]
  },
  {
   "cell_type": "code",
   "execution_count": null,
   "id": "f1a5c776-f895-450e-a4ca-acf980f581a5",
   "metadata": {},
   "outputs": [
    {
     "name": "stdout",
     "output_type": "stream",
     "text": [
      "Values = [229  94  65  40 262 223 120 141 211 214]\n",
      "Size = [5 6 3 7 7 3 5 4 6 6]\n",
      "Capacity = 32\n",
      "Carbon tax amount =  82\n",
      "[45.8  15.67 21.67  5.71 37.43 74.33 24.   35.25 35.17 35.67]\n"
     ]
    }
   ],
   "source": [
    "# we have ten cars waiting to be chosen\n",
    "N = 10\n",
    "# value of cars varies\n",
    "v = np.random.randint(40,300,N)\n",
    "# size of the cars varies\n",
    "s = np.random.randint(3,9,N)\n",
    "# total size of all cars\n",
    "size = np.sum(s)\n",
    "# parking lot capacity\n",
    "S = np.random.randint(size//2,2*size//3)\n",
    "# carbon tax for each car\n",
    "c = np.random.randint(10,20,N)\n",
    "# total amount of carbon tax\n",
    "tax = np.sum(c)\n",
    "# total carbon tax the dealership would pay\n",
    "C = np.random.randint(tax//2,2*tax//3)\n",
    "print(\"Values =\",v)\n",
    "print(\"Size =\",s)\n",
    "print(\"Capacity =\",S)\n",
    "print(\"Carbon tax amount = \", C)\n",
    "x = cp.Variable(N,integer=True)\n",
    "obj = cp.Maximize(cp.sum(cp.multiply(v,x)))\n",
    "constraints = [cp.sum(cp.multiply(s,x)) <= S,\n",
    "               cp.sum(cp.multiply(c,x)) <= C,\n",
    "                 x <= 1, x >= 0]\n",
    "prob = cp.Problem(obj,constraints)\n",
    "prob.solve()\n",
    "x.value\n",
    "\n",
    "v@x.value\n",
    "s@x.value\n",
    "value_per_size = v/s\n",
    "print(value_per_size.round(2))\n",
    "\n",
    "items = []\n",
    "for _ in range(N):\n",
    "    i = np.argmax(value_per_size)\n",
    "    items.append(i)\n",
    "    value_per_size[i] = 0.\n",
    "    weight = sum([s[k] for k in items])\n",
    "    if weight > C:\n",
    "        items = items[:-1]\n",
    "        break"
   ]
  },
  {
   "cell_type": "code",
   "execution_count": null,
   "id": "6ef79208-131a-400c-af23-12455c36ab54",
   "metadata": {},
   "outputs": [
    {
     "data": {
      "text/plain": [
       "[np.int64(0),\n",
       " np.int64(1),\n",
       " np.int64(2),\n",
       " np.int64(3),\n",
       " np.int64(4),\n",
       " np.int64(5),\n",
       " np.int64(6),\n",
       " np.int64(7),\n",
       " np.int64(8),\n",
       " np.int64(9)]"
      ]
     },
     "execution_count": 3,
     "metadata": {},
     "output_type": "execute_result"
    }
   ],
   "source": [
    "sorted(items)"
   ]
  },
  {
   "cell_type": "code",
   "execution_count": 2,
   "id": "68c18055-5476-4445-9c45-727d4f97726f",
   "metadata": {},
   "outputs": [
    {
     "name": "stdout",
     "output_type": "stream",
     "text": [
      "['brand', 'model', 'model_year', 'milage', 'fuel_type', 'engine', 'transmission', 'ext_col', 'int_col', 'accident', 'clean_title', 'price']\n"
     ]
    }
   ],
   "source": [
    "df = pd.read_csv('data/used_cars.csv')\n",
    "print(list(df.columns))\n",
    "df = df.dropna()"
   ]
  },
  {
   "cell_type": "code",
   "execution_count": 3,
   "id": "002e0ba8-e8cb-4ad4-a9e3-192c1d960d0a",
   "metadata": {},
   "outputs": [
    {
     "data": {
      "text/plain": [
       "array(['E85 Flex Fuel', 'Gasoline', 'Hybrid', 'Diesel', 'Plug-In Hybrid',\n",
       "       '–', 'not supported'], dtype=object)"
      ]
     },
     "execution_count": 3,
     "metadata": {},
     "output_type": "execute_result"
    }
   ],
   "source": [
    "df['fuel_type'].unique()"
   ]
  },
  {
   "cell_type": "code",
   "execution_count": 4,
   "id": "7468a596-072c-415c-afb9-2e79fc8d89e5",
   "metadata": {},
   "outputs": [],
   "source": [
    "df_new = df[df['fuel_type'] != \"not supported\"]\n",
    "df_new['fuel_type'].unique()\n",
    "df_new = df_new[df_new['fuel_type'] != '']\n",
    "df_new['fuel_type'].unique()\n",
    "df_new.drop(columns=[\"model_year\", \"milage\",\"engine\",\"transmission\",\"ext_col\",\"int_col\",\"accident\",\"clean_title\"], inplace=True)\n"
   ]
  },
  {
   "cell_type": "code",
   "execution_count": 5,
   "id": "c2046c8e-d0e4-45eb-8498-d6696c4a4e84",
   "metadata": {},
   "outputs": [
    {
     "data": {
      "text/plain": [
       "brand        object\n",
       "model        object\n",
       "fuel_type    object\n",
       "price        object\n",
       "dtype: object"
      ]
     },
     "execution_count": 5,
     "metadata": {},
     "output_type": "execute_result"
    }
   ],
   "source": [
    "df_new.dtypes"
   ]
  },
  {
   "cell_type": "code",
   "execution_count": null,
   "id": "35f5346d-aca3-487d-880f-cc6a8af17ccb",
   "metadata": {},
   "outputs": [
    {
     "name": "stdout",
     "output_type": "stream",
     "text": [
      "Values = ['$10,300' '$38,005' '$15,500' ... '$53,900' '$62,999' '$40,000']\n",
      "Weight = [12 14  7 18  6  8 18 15 15 19]\n",
      "Capacity = 72\n"
     ]
    },
    {
     "ename": "ValueError",
     "evalue": "could not convert string to float: '$10,300'",
     "output_type": "error",
     "traceback": [
      "\u001b[0;31m---------------------------------------------------------------------------\u001b[0m",
      "\u001b[0;31mValueError\u001b[0m                                Traceback (most recent call last)",
      "Cell \u001b[0;32mIn[36], line 11\u001b[0m\n\u001b[1;32m      9\u001b[0m \u001b[38;5;28mprint\u001b[39m(\u001b[38;5;124m\"\u001b[39m\u001b[38;5;124mCapacity =\u001b[39m\u001b[38;5;124m\"\u001b[39m,C)\n\u001b[1;32m     10\u001b[0m x \u001b[38;5;241m=\u001b[39m cp\u001b[38;5;241m.\u001b[39mVariable(N,integer\u001b[38;5;241m=\u001b[39m\u001b[38;5;28;01mTrue\u001b[39;00m)\n\u001b[0;32m---> 11\u001b[0m obj \u001b[38;5;241m=\u001b[39m cp\u001b[38;5;241m.\u001b[39mMaximize(cp\u001b[38;5;241m.\u001b[39msum(\u001b[43mcp\u001b[49m\u001b[38;5;241;43m.\u001b[39;49m\u001b[43mmultiply\u001b[49m\u001b[43m(\u001b[49m\u001b[43mv\u001b[49m\u001b[43m,\u001b[49m\u001b[43mx\u001b[49m\u001b[43m)\u001b[49m))\n\u001b[1;32m     12\u001b[0m constraints \u001b[38;5;241m=\u001b[39m [cp\u001b[38;5;241m.\u001b[39msum(cp\u001b[38;5;241m.\u001b[39mmultiply(w,x)) \u001b[38;5;241m<\u001b[39m\u001b[38;5;241m=\u001b[39m C, x \u001b[38;5;241m<\u001b[39m\u001b[38;5;241m=\u001b[39m \u001b[38;5;241m1\u001b[39m, x \u001b[38;5;241m>\u001b[39m\u001b[38;5;241m=\u001b[39m \u001b[38;5;241m0\u001b[39m]\n\u001b[1;32m     13\u001b[0m prob \u001b[38;5;241m=\u001b[39m cp\u001b[38;5;241m.\u001b[39mProblem(obj,constraints)\n",
      "File \u001b[0;32m/opt/conda/lib/python3.12/site-packages/cvxpy/atoms/affine/binary_operators.py:241\u001b[0m, in \u001b[0;36mmultiply.__init__\u001b[0;34m(self, lh_expr, rh_expr)\u001b[0m\n\u001b[1;32m    240\u001b[0m \u001b[38;5;28;01mdef\u001b[39;00m \u001b[38;5;21m__init__\u001b[39m(\u001b[38;5;28mself\u001b[39m, lh_expr, rh_expr) \u001b[38;5;241m-\u001b[39m\u001b[38;5;241m>\u001b[39m \u001b[38;5;28;01mNone\u001b[39;00m:\n\u001b[0;32m--> 241\u001b[0m     lh_expr, rh_expr \u001b[38;5;241m=\u001b[39m \u001b[38;5;28;43mself\u001b[39;49m\u001b[38;5;241;43m.\u001b[39;49m\u001b[43mbroadcast\u001b[49m\u001b[43m(\u001b[49m\u001b[43mlh_expr\u001b[49m\u001b[43m,\u001b[49m\u001b[43m \u001b[49m\u001b[43mrh_expr\u001b[49m\u001b[43m)\u001b[49m\n\u001b[1;32m    242\u001b[0m     \u001b[38;5;28msuper\u001b[39m(multiply, \u001b[38;5;28mself\u001b[39m)\u001b[38;5;241m.\u001b[39m\u001b[38;5;21m__init__\u001b[39m(lh_expr, rh_expr)\n",
      "File \u001b[0;32m/opt/conda/lib/python3.12/site-packages/cvxpy/expressions/expression.py:587\u001b[0m, in \u001b[0;36mExpression.broadcast\u001b[0;34m(lh_expr, rh_expr)\u001b[0m\n\u001b[1;32m    583\u001b[0m \u001b[38;5;129m@staticmethod\u001b[39m\n\u001b[1;32m    584\u001b[0m \u001b[38;5;28;01mdef\u001b[39;00m \u001b[38;5;21mbroadcast\u001b[39m(lh_expr: \u001b[38;5;124m\"\u001b[39m\u001b[38;5;124mExpression\u001b[39m\u001b[38;5;124m\"\u001b[39m, rh_expr: \u001b[38;5;124m\"\u001b[39m\u001b[38;5;124mExpression\u001b[39m\u001b[38;5;124m\"\u001b[39m):\n\u001b[1;32m    585\u001b[0m \u001b[38;5;250m    \u001b[39m\u001b[38;5;124;03m\"\"\"Broacast the binary operator.\u001b[39;00m\n\u001b[1;32m    586\u001b[0m \u001b[38;5;124;03m    \"\"\"\u001b[39;00m\n\u001b[0;32m--> 587\u001b[0m     lh_expr \u001b[38;5;241m=\u001b[39m \u001b[43mExpression\u001b[49m\u001b[38;5;241;43m.\u001b[39;49m\u001b[43mcast_to_const\u001b[49m\u001b[43m(\u001b[49m\u001b[43mlh_expr\u001b[49m\u001b[43m)\u001b[49m\n\u001b[1;32m    588\u001b[0m     rh_expr \u001b[38;5;241m=\u001b[39m Expression\u001b[38;5;241m.\u001b[39mcast_to_const(rh_expr)\n\u001b[1;32m    589\u001b[0m     \u001b[38;5;28;01mif\u001b[39;00m lh_expr\u001b[38;5;241m.\u001b[39mis_scalar() \u001b[38;5;129;01mand\u001b[39;00m \u001b[38;5;129;01mnot\u001b[39;00m rh_expr\u001b[38;5;241m.\u001b[39mis_scalar():\n",
      "File \u001b[0;32m/opt/conda/lib/python3.12/site-packages/cvxpy/expressions/expression.py:581\u001b[0m, in \u001b[0;36mExpression.cast_to_const\u001b[0;34m(expr)\u001b[0m\n\u001b[1;32m    576\u001b[0m         \u001b[38;5;28;01mif\u001b[39;00m \u001b[38;5;28misinstance\u001b[39m(elem, Expression):\n\u001b[1;32m    577\u001b[0m             \u001b[38;5;28;01mraise\u001b[39;00m \u001b[38;5;167;01mValueError\u001b[39;00m(\n\u001b[1;32m    578\u001b[0m                 \u001b[38;5;124m\"\u001b[39m\u001b[38;5;124mThe input must be a single CVXPY Expression, not a list. \u001b[39m\u001b[38;5;124m\"\u001b[39m\n\u001b[1;32m    579\u001b[0m                 \u001b[38;5;124m\"\u001b[39m\u001b[38;5;124mCombine Expressions using atoms such as bmat, hstack, and vstack.\u001b[39m\u001b[38;5;124m\"\u001b[39m\n\u001b[1;32m    580\u001b[0m             )\n\u001b[0;32m--> 581\u001b[0m \u001b[38;5;28;01mreturn\u001b[39;00m expr \u001b[38;5;28;01mif\u001b[39;00m \u001b[38;5;28misinstance\u001b[39m(expr, Expression) \u001b[38;5;28;01melse\u001b[39;00m \u001b[43mcvxtypes\u001b[49m\u001b[38;5;241;43m.\u001b[39;49m\u001b[43mconstant\u001b[49m\u001b[43m(\u001b[49m\u001b[43m)\u001b[49m\u001b[43m(\u001b[49m\u001b[43mexpr\u001b[49m\u001b[43m)\u001b[49m\n",
      "File \u001b[0;32m/opt/conda/lib/python3.12/site-packages/cvxpy/expressions/constants/constant.py:54\u001b[0m, in \u001b[0;36mConstant.__init__\u001b[0;34m(self, value, name)\u001b[0m\n\u001b[1;32m     51\u001b[0m     \u001b[38;5;28;01mif\u001b[39;00m \u001b[38;5;28misinstance\u001b[39m(value, \u001b[38;5;28mlist\u001b[39m) \u001b[38;5;129;01mand\u001b[39;00m \u001b[38;5;28many\u001b[39m(\u001b[38;5;28misinstance\u001b[39m(i, \u001b[38;5;28mlist\u001b[39m) \u001b[38;5;28;01mfor\u001b[39;00m i \u001b[38;5;129;01min\u001b[39;00m value):\n\u001b[1;32m     52\u001b[0m         warnings\u001b[38;5;241m.\u001b[39mwarn(NESTED_LIST_WARNING)\n\u001b[0;32m---> 54\u001b[0m     \u001b[38;5;28mself\u001b[39m\u001b[38;5;241m.\u001b[39m_value \u001b[38;5;241m=\u001b[39m \u001b[43mintf\u001b[49m\u001b[38;5;241;43m.\u001b[39;49m\u001b[43mDEFAULT_INTF\u001b[49m\u001b[38;5;241;43m.\u001b[39;49m\u001b[43mconst_to_matrix\u001b[49m\u001b[43m(\u001b[49m\u001b[43mvalue\u001b[49m\u001b[43m)\u001b[49m\n\u001b[1;32m     55\u001b[0m     \u001b[38;5;28mself\u001b[39m\u001b[38;5;241m.\u001b[39m_sparse \u001b[38;5;241m=\u001b[39m \u001b[38;5;28;01mFalse\u001b[39;00m\n\u001b[1;32m     56\u001b[0m \u001b[38;5;28mself\u001b[39m\u001b[38;5;241m.\u001b[39m_imag: Optional[\u001b[38;5;28mbool\u001b[39m] \u001b[38;5;241m=\u001b[39m \u001b[38;5;28;01mNone\u001b[39;00m\n",
      "File \u001b[0;32m/opt/conda/lib/python3.12/site-packages/cvxpy/interface/numpy_interface/ndarray_interface.py:56\u001b[0m, in \u001b[0;36mNDArrayInterface.const_to_matrix\u001b[0;34m(self, value, convert_scalars)\u001b[0m\n\u001b[1;32m     54\u001b[0m     \u001b[38;5;28;01mreturn\u001b[39;00m result\n\u001b[1;32m     55\u001b[0m \u001b[38;5;28;01melse\u001b[39;00m:\n\u001b[0;32m---> 56\u001b[0m     \u001b[38;5;28;01mreturn\u001b[39;00m \u001b[43mresult\u001b[49m\u001b[38;5;241;43m.\u001b[39;49m\u001b[43mastype\u001b[49m\u001b[43m(\u001b[49m\u001b[43mnumpy\u001b[49m\u001b[38;5;241;43m.\u001b[39;49m\u001b[43mfloat64\u001b[49m\u001b[43m)\u001b[49m\n",
      "\u001b[0;31mValueError\u001b[0m: could not convert string to float: '$10,300'"
     ]
    }
   ],
   "source": [
    "N = 10\n",
    "v = np.array(df_new[\"price\"])\n",
    "# assign carbon weight to fuel type\n",
    "w = np.random.randint(3,20,N)\n",
    "W = np.sum(w)\n",
    "C = np.random.randint(W//2,2*W//3)\n",
    "print(\"Values =\",v)\n",
    "print(\"Weight =\",w)\n",
    "print(\"Capacity =\",C)\n",
    "x = cp.Variable(N,integer=True)\n",
    "obj = cp.Maximize(cp.sum(cp.multiply(v,x)))\n",
    "constraints = [cp.sum(cp.multiply(w,x)) <= C, x <= 1, x >= 0]\n",
    "prob = cp.Problem(obj,constraints)\n",
    "prob.solve()\n",
    "x.value\n",
    "\n",
    "v@x.value\n",
    "w@x.value\n",
    "value_per_weight = v/w\n",
    "print(value_per_weight.round(2))\n",
    "\n",
    "items = []\n",
    "for _ in range(N):\n",
    "    i = np.argmax(value_per_weight)\n",
    "    items.append(i)\n",
    "    value_per_weight[i] = 0.\n",
    "    weight = sum([w[k] for k in items])\n",
    "    if weight > C:\n",
    "        items = items[:-1]\n",
    "        break"
   ]
  },
  {
   "cell_type": "code",
   "execution_count": null,
   "id": "6521382e-eec7-4cb4-ae9a-bd9f0d089f6b",
   "metadata": {},
   "outputs": [],
   "source": []
  }
 ],
 "metadata": {
  "kernelspec": {
   "display_name": "base",
   "language": "python",
   "name": "python3"
  },
  "language_info": {
   "codemirror_mode": {
    "name": "ipython",
    "version": 3
   },
   "file_extension": ".py",
   "mimetype": "text/x-python",
   "name": "python",
   "nbconvert_exporter": "python",
   "pygments_lexer": "ipython3",
   "version": "3.12.8"
  }
 },
 "nbformat": 4,
 "nbformat_minor": 5
}
