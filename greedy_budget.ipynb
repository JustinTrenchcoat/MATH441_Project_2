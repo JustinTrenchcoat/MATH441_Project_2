{
 "cells": [
  {
   "cell_type": "markdown",
   "metadata": {},
   "source": [
    "##### When we emphasize on Profit-budget ratio:"
   ]
  },
  {
   "cell_type": "code",
   "execution_count": 1,
   "metadata": {},
   "outputs": [],
   "source": [
    "# Import Packages\n",
    "import numpy as np\n",
    "import cvxpy as cp\n",
    "import pandas as pd\n",
    "import matplotlib.pyplot as plt\n",
    "# Import functions\n",
    "from my_functions import *"
   ]
  },
  {
   "cell_type": "code",
   "execution_count": 6,
   "metadata": {},
   "outputs": [],
   "source": [
    "df_new = pd.read_csv('data/complete_data.csv')\n",
    "# total number of cars \n",
    "N = len(df_new)\n",
    "# value of cars varies\n",
    "profit = df_new['Profit']\n",
    "# size of the cars varies\n",
    "size = df_new[\"size\"]\n",
    "# total size of all cars\n",
    "total_size = np.sum(size)\n",
    "# parking lot capacity\n",
    "parkCapacity = 2*total_size/3\n",
    "\n",
    "# Buying price for each car\n",
    "buy_price = df_new[\"Buying Price\"]\n",
    "# total amount of buying cost\n",
    "total_price = np.sum(buy_price)\n",
    "# total budget the dealership has\n",
    "dealBudget = total_price/4\n",
    "\n",
    "# approximation with greedy algorithm\n",
    "fuel = df_new[\"fuel_type\"].values\n",
    "imported = df_new[\"imported\"].values\n",
    "profit = df_new['Profit'].values\n",
    "cost = df_new['Buying Price'].values\n",
    "\n",
    "global value_per_budget \n",
    "value_per_budget = profit/buy_price\n",
    "global should_break\n",
    "should_break=False\n",
    "\n",
    "global items\n",
    "items = []\n",
    "global counter_import\n",
    "counter_import = 0\n",
    "global counter_EV\n",
    "counter_EV = 0\n",
    "\n",
    "EV_fee = 300\n",
    "license_fee = 1000"
   ]
  },
  {
   "cell_type": "code",
   "execution_count": 7,
   "metadata": {},
   "outputs": [
    {
     "name": "stdout",
     "output_type": "stream",
     "text": [
      "Total Number of cars ready to sell:  3223\n",
      "Total car value: $ 26420798.85\n",
      "Total Size of cars:  28942 m^2\n",
      "Total buying cost amount: $ 106834878.15\n",
      "------------------------------------------\n",
      "Parking Lot Capacity:  19294.666666666668 m^2\n",
      "Available Budget Amount: $ 26708719.5375\n",
      "---------------------------------------------------------------\n",
      "Dealership Decision Optimizer Greedy System(D-DOGS) is optimizing....\n",
      "---------------------------------------------------------------\n",
      "337 cars sold\n",
      "Profit: $ 8270131.500000002\n",
      "Actual Size of cars sold:  3015 m^2\n",
      "Actual budget spent: $ 26583317.5\n"
     ]
    }
   ],
   "source": [
    "greedy_budget = ddog_budget(items,fuel, imported, \n",
    "              value_per_budget,\n",
    "              profit, EV_fee, license_fee, \n",
    "              size, cost, parkCapacity,dealBudget,\n",
    "              counter_EV, counter_import,should_break)\n",
    "infoPage(N, profit, sum(size), buy_price, parkCapacity, dealBudget)\n",
    "runOG(greedy_budget, profit, size, buy_price)"
   ]
  },
  {
   "cell_type": "code",
   "execution_count": null,
   "metadata": {},
   "outputs": [],
   "source": []
  }
 ],
 "metadata": {
  "kernelspec": {
   "display_name": "base",
   "language": "python",
   "name": "python3"
  },
  "language_info": {
   "codemirror_mode": {
    "name": "ipython",
    "version": 3
   },
   "file_extension": ".py",
   "mimetype": "text/x-python",
   "name": "python",
   "nbconvert_exporter": "python",
   "pygments_lexer": "ipython3",
   "version": "3.12.8"
  }
 },
 "nbformat": 4,
 "nbformat_minor": 2
}
