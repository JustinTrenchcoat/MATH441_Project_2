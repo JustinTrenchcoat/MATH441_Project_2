{
 "cells": [
  {
   "cell_type": "markdown",
   "metadata": {},
   "source": [
    "## Knapsack Problem\n",
    "\n",
    "### Problem Statement\n",
    "\n",
    "We have a set of cars of different sizes and values and a parking lot at the dealership with a limited car capacity. How do we choose which cars to pack into the parking lot to maximize the total sale value?\n",
    "\n",
    "### Define Variables and Parameters\n",
    "\n",
    "* $N$ is the number of cars\n",
    "* $s_i$ is the size of car $i$\n",
    "* $v_i$ is the value of car $i$\n",
    "* $x_i$ is the decision variables: $x_i = 1$ if car $i$ is chosen and $x_i = 0$ if not\n",
    "* $c_i$ is the carbon tax of the car $i$\n",
    "* $C$ is the total carbon tax amount the dealership paid. \n",
    "* $S$ is the capacity of the parking lot\n",
    "\n",
    "### Identify Constraints and Make Assumptions\n",
    "\n",
    "* Total area of the parked items is less than the parking lot capacity"
   ]
  },
  {
   "cell_type": "code",
   "execution_count": 5,
   "metadata": {},
   "outputs": [],
   "source": [
    "# Import Packages\n",
    "import numpy as np\n",
    "import cvxpy as cp\n",
    "import pandas as pd"
   ]
  },
  {
   "cell_type": "code",
   "execution_count": 6,
   "metadata": {},
   "outputs": [
    {
     "name": "stdout",
     "output_type": "stream",
     "text": [
      "['brand', 'model', 'model_year', 'milage', 'fuel_type', 'engine', 'transmission', 'ext_col', 'int_col', 'accident', 'clean_title', 'price']\n"
     ]
    }
   ],
   "source": [
    "# Data Loading\n",
    "df = pd.read_csv('data/used_cars.csv')\n",
    "print(list(df.columns))"
   ]
  },
  {
   "cell_type": "code",
   "execution_count": 7,
   "metadata": {},
   "outputs": [
    {
     "name": "stdout",
     "output_type": "stream",
     "text": [
      "['E85 Flex Fuel' 'Gasoline' 'Hybrid' 'Diesel' 'Plug-In Hybrid' '–']\n",
      "      brand                            model      fuel_type    price\n",
      "0      Ford  Utility Police Interceptor Base  E85 Flex Fuel  10300.0\n",
      "1   Hyundai                     Palisade SEL       Gasoline  38005.0\n",
      "3  INFINITI                 Q50 Hybrid Sport         Hybrid  15500.0\n",
      "6      Audi             S3 2.0T Premium Plus       Gasoline  31000.0\n",
      "7       BMW                           740 iL       Gasoline   7300.0\n"
     ]
    }
   ],
   "source": [
    "# data cleaning\n",
    "df = df.dropna()\n",
    "df_new = df[df['fuel_type'] != \"not supported\"]\n",
    "print(df_new['fuel_type'].unique())\n",
    "df_new = df_new[df_new['fuel_type'] != '–']\n",
    "\n",
    "df_new.drop(columns=[\"model_year\", \"milage\",\"engine\",\"transmission\",\"ext_col\",\"int_col\",\"accident\",\"clean_title\"], inplace=True)\n",
    "\n",
    "# Remove the dollar sign and convert to numeric\n",
    "df_new['price'] = df_new['price'].str.replace(r'[$,]', '', regex=True).astype(float)\n",
    "print(df_new.head())"
   ]
  },
  {
   "cell_type": "code",
   "execution_count": 8,
   "metadata": {},
   "outputs": [
    {
     "name": "stdout",
     "output_type": "stream",
     "text": [
      "      brand                            model      fuel_type    price  \\\n",
      "0      Ford  Utility Police Interceptor Base  E85 Flex Fuel  10300.0   \n",
      "1   Hyundai                     Palisade SEL       Gasoline  38005.0   \n",
      "3  INFINITI                 Q50 Hybrid Sport         Hybrid  15500.0   \n",
      "6      Audi             S3 2.0T Premium Plus       Gasoline  31000.0   \n",
      "7       BMW                           740 iL       Gasoline   7300.0   \n",
      "\n",
      "   Depreciation Rate  Carbon Tax  Buying Price    Profit  Imported  \n",
      "0               0.70         150       7360.00   2940.00         1  \n",
      "1               0.65         200      24903.25  13101.75         0  \n",
      "3               0.80         120      12520.00   2980.00         0  \n",
      "6               0.65         200      20350.00  10650.00         1  \n",
      "7               0.65         200       4945.00   2355.00         1  \n"
     ]
    }
   ],
   "source": [
    "df_new[\"Depreciation Rate\"] = [\n",
    "    0.5 if type == \"Diesel\" else\n",
    "    0.65 if type == \"Gasoline\" else\n",
    "    0.7 if type == 'E85 Flex Fuel' else\n",
    "    0.80 if type == \"Hybrid\" else\n",
    "    0.95\n",
    "    for type in df_new[\"fuel_type\"]\n",
    "]\n",
    "df_new[\"Carbon Tax\"] = [\n",
    "    500 if type == \"Diesel\" else\n",
    "    200 if type == \"Gasoline\" else\n",
    "    150 if type == 'E85 Flex Fuel' else\n",
    "    120 if type == \"Hybrid\" else\n",
    "    50\n",
    "    for type in df_new[\"fuel_type\"]\n",
    "]\n",
    "df_new[\"Buying Price\"] = df_new[\"price\"]*df_new[\"Depreciation Rate\"] + df_new[\"Carbon Tax\"]\n",
    "df_new[\"Profit\"] = df_new[\"price\"]-df_new[\"Buying Price\"]\n",
    "df_new[\"Imported\"] = np.random.choice([0, 1], size=len(df_new))\n",
    "\n",
    "print(df_new.head())"
   ]
  },
  {
   "cell_type": "code",
   "execution_count": 13,
   "metadata": {},
   "outputs": [
    {
     "name": "stdout",
     "output_type": "stream",
     "text": [
      "Total Number of cars ready to sell:  3223\n",
      "Total car value: $ 45042160.949999996\n",
      "Total Size of cars:  27387 m^2\n",
      "Total buying cost amount: $ 88213516.05000001\n",
      "------------------------------------------\n",
      "Parking Lot Capacity:  14263 m^2\n",
      "Available Budget Amount: $ 19967442\n",
      "181.0 cars sold\n",
      "Profit: $ 11734850.05\n",
      "Actual Size of cars sold:  1536.0 m^2\n",
      "Actual budget spent: $ 19967427.95\n"
     ]
    }
   ],
   "source": [
    "# total number of cars \n",
    "N = len(df_new)\n",
    "# value of cars varies\n",
    "profit = df_new['Profit']\n",
    "# size of the cars varies\n",
    "s = np.random.randint(8,10,N)\n",
    "# total size of all cars\n",
    "size = np.sum(s)\n",
    "# parking lot capacity\n",
    "S = np.random.randint(size//2,2*size//3)\n",
    "\n",
    "# Buying price for each car\n",
    "b = df_new[\"Buying Price\"]\n",
    "# total amount of buying cost\n",
    "budget = np.sum(b)\n",
    "# total budget the dealership has\n",
    "C = np.random.randint(budget//5,budget//4)\n",
    "\n",
    "fee_electric = 300\n",
    "fee_imported = 1000\n",
    "\n",
    "# Outputs\n",
    "print(\"Total Number of cars ready to sell: \", N)\n",
    "print(\"Total car value: $\",np.sum(profit))\n",
    "print(\"Total Size of cars: \",size, \"m^2\")\n",
    "print(\"Total buying cost amount: $\", budget)\n",
    "print(\"------------------------------------------\")\n",
    "print(\"Parking Lot Capacity: \",S, \"m^2\")\n",
    "print(\"Available Budget Amount: $\", C)\n",
    "\n",
    "\n",
    "\n",
    "# Solution\n",
    "x = cp.Variable(N,integer=True)\n",
    "# Penalty fees\n",
    "electric_penalty = fee_electric * cp.max(cp.multiply(x,df_new['fuel_type'].apply(lambda g: g == 'Plug-In Hybrid').astype(int)))\n",
    "imported_penalty = fee_imported * cp.max(cp.multiply(x,df_new['Imported']))\n",
    "\n",
    "obj = cp.Maximize(cp.sum(cp.multiply(profit,x))-electric_penalty-imported_penalty)\n",
    "constraints = [cp.sum(cp.multiply(s,x)) <= S,\n",
    "               cp.sum(cp.multiply(b,x)) <= C,\n",
    "                 x <= 1, x >= 0]\n",
    "prob = cp.Problem(obj,constraints)\n",
    "prob.solve()\n",
    "\n",
    "\n",
    "\n",
    "print(np.sum(x.value), \"cars sold\")\n",
    "print(\"Profit: $\", profit@x.value)\n",
    "print(\"Actual Size of cars sold: \", s@x.value, \"m^2\")\n",
    "print(\"Actual budget spent: $\", b@x.value)"
   ]
  },
  {
   "cell_type": "code",
   "execution_count": null,
   "metadata": {},
   "outputs": [],
   "source": [
    "# approximation with greedy algorithm\n",
    "\n",
    "value_per_size = profit/s\n",
    "print(value_per_size.round(2))\n",
    "\n",
    "items = []\n",
    "for _ in range(N):\n",
    "    i = np.argmax(value_per_size)\n",
    "    print(i)\n",
    "    items.append(i)\n",
    "    value_per_size[i] = 0.\n",
    "    size = sum([s[k] for k in items])\n",
    "    carbon = sum([b[k]for k in items])\n",
    "    if((size > S) or (carbon > C) ):\n",
    "        items = items[:-1]\n",
    "        break\n",
    "\n",
    "sorted(items)"
   ]
  }
 ],
 "metadata": {
  "kernelspec": {
   "display_name": "base",
   "language": "python",
   "name": "python3"
  },
  "language_info": {
   "codemirror_mode": {
    "name": "ipython",
    "version": 3
   },
   "file_extension": ".py",
   "mimetype": "text/x-python",
   "name": "python",
   "nbconvert_exporter": "python",
   "pygments_lexer": "ipython3",
   "version": "3.12.8"
  }
 },
 "nbformat": 4,
 "nbformat_minor": 2
}
