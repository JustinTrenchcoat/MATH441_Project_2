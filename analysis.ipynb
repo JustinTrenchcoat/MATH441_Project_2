{
 "cells": [
  {
   "cell_type": "code",
   "execution_count": 1,
   "metadata": {},
   "outputs": [],
   "source": [
    "import numpy as np\n",
    "import cvxpy as cp\n",
    "import pandas as pd"
   ]
  },
  {
   "cell_type": "code",
   "execution_count": 8,
   "metadata": {},
   "outputs": [
    {
     "name": "stdout",
     "output_type": "stream",
     "text": [
      "['brand', 'model', 'model_year', 'milage', 'fuel_type', 'engine', 'transmission', 'ext_col', 'int_col', 'accident', 'clean_title', 'price']\n",
      "      brand                            model      fuel_type    price\n",
      "0      Ford  Utility Police Interceptor Base  E85 Flex Fuel  10300.0\n",
      "1   Hyundai                     Palisade SEL       Gasoline  38005.0\n",
      "3  INFINITI                 Q50 Hybrid Sport         Hybrid  15500.0\n",
      "6      Audi             S3 2.0T Premium Plus       Gasoline  31000.0\n",
      "7       BMW                           740 iL       Gasoline   7300.0\n"
     ]
    }
   ],
   "source": [
    "df = pd.read_csv('data/used_cars.csv')\n",
    "print(list(df.columns))\n",
    "\n",
    "# data cleaning\n",
    "df = df.dropna()\n",
    "df['fuel_type'].unique()\n",
    "df_new = df[df['fuel_type'] != \"not supported\"]\n",
    "df_new['fuel_type'].unique()\n",
    "df_new = df_new[df_new['fuel_type'] != '–']\n",
    "\n",
    "df_new.drop(columns=[\"model_year\", \"milage\",\"engine\",\"transmission\",\"ext_col\",\"int_col\",\"accident\",\"clean_title\"], inplace=True)\n",
    "\n",
    "# Remove the dollar sign and convert to numeric\n",
    "df_new['price'] = df_new['price'].str.replace(r'[$,]', '', regex=True).astype(float)\n",
    "print(df_new.head())"
   ]
  },
  {
   "cell_type": "code",
   "execution_count": 10,
   "metadata": {},
   "outputs": [
    {
     "name": "stdout",
     "output_type": "stream",
     "text": [
      "      brand                            model      fuel_type    price  \\\n",
      "0      Ford  Utility Police Interceptor Base  E85 Flex Fuel  10300.0   \n",
      "1   Hyundai                     Palisade SEL       Gasoline  38005.0   \n",
      "3  INFINITI                 Q50 Hybrid Sport         Hybrid  15500.0   \n",
      "6      Audi             S3 2.0T Premium Plus       Gasoline  31000.0   \n",
      "7       BMW                           740 iL       Gasoline   7300.0   \n",
      "\n",
      "   CarbonTax  \n",
      "0          3  \n",
      "1          4  \n",
      "3          2  \n",
      "6          4  \n",
      "7          4  \n"
     ]
    }
   ],
   "source": [
    "df_new['fuel_type'].unique()\n",
    "df_new[\"CarbonTax\"] = [\n",
    "    5 if type == \"Diesel\" else\n",
    "    4 if type == \"Gasoline\" else\n",
    "    3 if type == 'E85 Flex Fuel' else\n",
    "    2 if type == \"Hybrid\" else\n",
    "    1\n",
    "    for type in df_new[\"fuel_type\"]\n",
    "]\n",
    "print(df_new.head())"
   ]
  },
  {
   "cell_type": "code",
   "execution_count": 19,
   "metadata": {},
   "outputs": [
    {
     "name": "stdout",
     "output_type": "stream",
     "text": [
      "Total Number of cars ready to sell:  3223\n",
      "Total car value: $ 133255677.0\n",
      "Total Size of cars:  27391 m^2\n",
      "Total carbon tax amount: $ 12477\n",
      "------------------------------------------\n",
      "Parking Lot Capacity:  17216 m^2\n",
      "Carbon tax paid: $ 6404\n",
      "1687.0 cars sold\n",
      "Profit: $ 109622574.0\n",
      "Actual Size of cars sold:  14335.0 m^2\n",
      "Actual carbon tax spent: $ 6404.0\n"
     ]
    }
   ],
   "source": [
    "# we have ten cars waiting to be chosen\n",
    "N = len(df_new)\n",
    "# value of cars varies\n",
    "v = df_new['price']\n",
    "# size of the cars varies\n",
    "s = np.random.randint(8,10,N)\n",
    "# total size of all cars\n",
    "size = np.sum(s)\n",
    "# parking lot capacity\n",
    "S = np.random.randint(size//2,2*size//3)\n",
    "\n",
    "# carbon tax for each car\n",
    "c = df_new[\"CarbonTax\"]\n",
    "# total amount of carbon tax\n",
    "tax = np.sum(c)\n",
    "# total carbon tax the dealership would pay\n",
    "C = np.random.randint(tax//2,2*tax//3)\n",
    "\n",
    "# Outputs\n",
    "print(\"Total Number of cars ready to sell: \", N)\n",
    "print(\"Total car value: $\",np.sum(v))\n",
    "print(\"Total Size of cars: \",size, \"m^2\")\n",
    "print(\"Total carbon tax amount: $\", tax)\n",
    "print(\"------------------------------------------\")\n",
    "print(\"Parking Lot Capacity: \",S, \"m^2\")\n",
    "print(\"Carbon tax paid: $\", C)\n",
    "\n",
    "# Solution\n",
    "x = cp.Variable(N,integer=True)\n",
    "obj = cp.Maximize(cp.sum(cp.multiply(v,x)))\n",
    "constraints = [cp.sum(cp.multiply(s,x)) <= S,\n",
    "               cp.sum(cp.multiply(c,x)) <= C,\n",
    "                 x <= 1, x >= 0]\n",
    "prob = cp.Problem(obj,constraints)\n",
    "prob.solve()\n",
    "\n",
    "\n",
    "# counter = 1\n",
    "# for i in x.value:\n",
    "#     if i==1:\n",
    "#       print(counter)\n",
    "#     counter+=1\n",
    "\n",
    "print(np.sum(x.value), \"cars sold\")\n",
    "print(\"Profit: $\", v@x.value)\n",
    "print(\"Actual Size of cars sold: \", s@x.value, \"m^2\")\n",
    "print(\"Actual carbon tax spent: $\", c@x.value)"
   ]
  },
  {
   "cell_type": "code",
   "execution_count": 12,
   "metadata": {},
   "outputs": [
    {
     "name": "stdout",
     "output_type": "stream",
     "text": [
      "1818.0\n"
     ]
    },
    {
     "data": {
      "text/plain": [
       "3223"
      ]
     },
     "execution_count": 12,
     "metadata": {},
     "output_type": "execute_result"
    }
   ],
   "source": [
    "print(sum(x.value))\n",
    "N"
   ]
  },
  {
   "cell_type": "code",
   "execution_count": null,
   "metadata": {},
   "outputs": [],
   "source": []
  }
 ],
 "metadata": {
  "kernelspec": {
   "display_name": "base",
   "language": "python",
   "name": "python3"
  },
  "language_info": {
   "codemirror_mode": {
    "name": "ipython",
    "version": 3
   },
   "file_extension": ".py",
   "mimetype": "text/x-python",
   "name": "python",
   "nbconvert_exporter": "python",
   "pygments_lexer": "ipython3",
   "version": "3.12.8"
  }
 },
 "nbformat": 4,
 "nbformat_minor": 2
}
