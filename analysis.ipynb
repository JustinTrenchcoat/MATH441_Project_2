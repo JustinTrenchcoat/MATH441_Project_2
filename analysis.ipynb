{
 "cells": [
  {
   "cell_type": "markdown",
   "metadata": {},
   "source": [
    "## Knapsack Problem\n",
    "\n",
    "### Problem Statement\n",
    "\n",
    "We have a set of cars of different sizes and values and a parking lot at the dealership with a limited car capacity. How do we choose which cars to pack into the parking lot to maximize the total sale value?\n",
    "\n",
    "### Define Variables and Parameters\n",
    "\n",
    "* $N$ is the number of cars\n",
    "* $s_i$ is the size of car $i$\n",
    "* $v_i$ is the value of car $i$\n",
    "* $x_i$ is the decision variables: $x_i = 1$ if car $i$ is chosen and $x_i = 0$ if not\n",
    "* $c_i$ is the carbon tax of the car $i$\n",
    "* $C$ is the total carbon tax amount the dealership paid. \n",
    "* $S$ is the capacity of the parking lot\n",
    "\n",
    "### Identify Constraints and Make Assumptions\n",
    "\n",
    "* Total area of the parked items is less than the parking lot capacity"
   ]
  },
  {
   "cell_type": "code",
   "execution_count": 1,
   "metadata": {},
   "outputs": [],
   "source": [
    "# Import Packages\n",
    "import numpy as np\n",
    "import cvxpy as cp\n",
    "import pandas as pd"
   ]
  },
  {
   "cell_type": "code",
   "execution_count": 16,
   "metadata": {},
   "outputs": [
    {
     "name": "stdout",
     "output_type": "stream",
     "text": [
      "['brand', 'model', 'model_year', 'milage', 'fuel_type', 'engine', 'transmission', 'ext_col', 'int_col', 'accident', 'clean_title', 'price']\n"
     ]
    }
   ],
   "source": [
    "# Data Loading\n",
    "df = pd.read_csv('data/used_cars.csv')\n",
    "print(list(df.columns))"
   ]
  },
  {
   "cell_type": "code",
   "execution_count": 17,
   "metadata": {},
   "outputs": [
    {
     "name": "stdout",
     "output_type": "stream",
     "text": [
      "['E85 Flex Fuel' 'Gasoline' 'Hybrid' 'Diesel' 'Plug-In Hybrid' '–']\n",
      "      brand                            model      fuel_type    price\n",
      "0      Ford  Utility Police Interceptor Base  E85 Flex Fuel  10300.0\n",
      "1   Hyundai                     Palisade SEL       Gasoline  38005.0\n",
      "3  INFINITI                 Q50 Hybrid Sport         Hybrid  15500.0\n",
      "6      Audi             S3 2.0T Premium Plus       Gasoline  31000.0\n",
      "7       BMW                           740 iL       Gasoline   7300.0\n"
     ]
    }
   ],
   "source": [
    "# data cleaning\n",
    "df = df.dropna()\n",
    "df_new = df[df['fuel_type'] != \"not supported\"]\n",
    "print(df_new['fuel_type'].unique())\n",
    "df_new = df_new[df_new['fuel_type'] != '–']\n",
    "\n",
    "df_new.drop(columns=[\"model_year\", \"milage\",\"engine\",\"transmission\",\"ext_col\",\"int_col\",\"accident\",\"clean_title\"], inplace=True)\n",
    "\n",
    "# Remove the dollar sign and convert to numeric\n",
    "df_new['price'] = df_new['price'].str.replace(r'[$,]', '', regex=True).astype(float)\n",
    "print(df_new.head())"
   ]
  },
  {
   "cell_type": "code",
   "execution_count": 18,
   "metadata": {},
   "outputs": [
    {
     "name": "stdout",
     "output_type": "stream",
     "text": [
      "      brand                            model      fuel_type    price  \\\n",
      "0      Ford  Utility Police Interceptor Base  E85 Flex Fuel  10300.0   \n",
      "1   Hyundai                     Palisade SEL       Gasoline  38005.0   \n",
      "3  INFINITI                 Q50 Hybrid Sport         Hybrid  15500.0   \n",
      "6      Audi             S3 2.0T Premium Plus       Gasoline  31000.0   \n",
      "7       BMW                           740 iL       Gasoline   7300.0   \n",
      "\n",
      "   Depreciation Rate  Carbon Tax  Buying Price    Profit  imported  \n",
      "0               0.70         150       7360.00   2940.00       1.0  \n",
      "1               0.65         200      24903.25  13101.75       1.0  \n",
      "3               0.80         120      12520.00   2980.00       0.0  \n",
      "6               0.65         200      20350.00  10650.00       0.0  \n",
      "7               0.65         200       4945.00   2355.00       1.0  \n"
     ]
    }
   ],
   "source": [
    "df_new[\"Depreciation Rate\"] = [\n",
    "    0.5 if type == \"Diesel\" else\n",
    "    0.65 if type == \"Gasoline\" else\n",
    "    0.7 if type == 'E85 Flex Fuel' else\n",
    "    0.80 if type == \"Hybrid\" else\n",
    "    0.95\n",
    "    for type in df_new[\"fuel_type\"]\n",
    "]\n",
    "df_new[\"Carbon Tax\"] = [\n",
    "    500 if type == \"Diesel\" else\n",
    "    200 if type == \"Gasoline\" else\n",
    "    150 if type == 'E85 Flex Fuel' else\n",
    "    120 if type == \"Hybrid\" else\n",
    "    50\n",
    "    for type in df_new[\"fuel_type\"]\n",
    "]\n",
    "df_new[\"Buying Price\"] = df_new[\"price\"]*df_new[\"Depreciation Rate\"] + df_new[\"Carbon Tax\"]\n",
    "df_new[\"Profit\"] = df_new[\"price\"]-df_new[\"Buying Price\"]\n",
    "# Create the \"imported\" column, default hybrid and plug-in hybrid rows to 0\n",
    "df_new['imported'] = np.where(df_new['fuel_type'].isin(['Plug-In Hybrid', 'Hybrid']), 0, np.nan)\n",
    "# Randomly assign 0 or 1 to the rest of the rows\n",
    "df_new['imported'] = df_new['imported'].apply(lambda x: np.random.choice([0, 1]) if np.isnan(x) else x)\n",
    "print(df_new.head())"
   ]
  },
  {
   "cell_type": "code",
   "execution_count": 30,
   "metadata": {},
   "outputs": [],
   "source": [
    "# total number of cars \n",
    "N = len(df_new)\n",
    "# value of cars varies\n",
    "profit = df_new['Profit']\n",
    "# size of the cars varies\n",
    "s = np.random.randint(8,10,N)\n",
    "# total size of all cars\n",
    "size = np.sum(s)\n",
    "# parking lot capacity\n",
    "ParkCap = np.random.randint(size//2,2*size//3)\n",
    "\n",
    "# Buying price for each car\n",
    "b = df_new[\"Buying Price\"]\n",
    "# total amount of buying cost\n",
    "buyCost = np.sum(b)\n",
    "# total budget the dealership has\n",
    "Budget = np.random.randint(buyCost//5,buyCost//4)"
   ]
  },
  {
   "cell_type": "code",
   "execution_count": 85,
   "metadata": {},
   "outputs": [],
   "source": [
    "# approximation with greedy algorithm\n",
    "fuel = df_new[\"fuel_type\"].values\n",
    "imported = df_new[\"imported\"].values\n",
    "profit = df_new['Profit'].values\n",
    "budget = df_new['Buying Price'].values\n",
    "\n",
    "global value_per_size \n",
    "value_per_size = profit/s\n",
    "\n",
    "should_break=False\n",
    "\n",
    "items = []\n",
    "ev_record = []\n",
    "import_record = []\n",
    "global counter_import\n",
    "counter_import = 0\n",
    "global counter_EV\n",
    "counter_EV = 0\n",
    "\n",
    "EV_fee = 300\n",
    "license_fee = 1000"
   ]
  },
  {
   "cell_type": "code",
   "execution_count": 80,
   "metadata": {},
   "outputs": [],
   "source": [
    "# functions for the greedy algorithm:\n",
    "\n",
    "# check the current profit for car i:\n",
    "# takes in the index for car i, check if it is EV or Imported, and deduct profit accordingly.\n",
    "def check_price(i):\n",
    "    fuel_type = fuel[i]\n",
    "    status = imported[i]\n",
    "    i_profit = profit[i]\n",
    "    # fuel deduction:\n",
    "    if ((fuel_type == 'Hybrid') or (fuel_type == \"Plug-In Hybrid\")):\n",
    "        if (counter_EV == 1):\n",
    "            return i_profit\n",
    "        else: \n",
    "            i_profit -= EV_fee\n",
    "            return i_profit\n",
    "    # import deduction\n",
    "    elif (status == 1):\n",
    "        if (counter_import == 1):\n",
    "            return i_profit\n",
    "        else:\n",
    "            i_profit -= license_fee\n",
    "            return i_profit\n",
    "    else:\n",
    "        return i_profit\n",
    "    \n",
    "# easy function for updating the status\n",
    "def Update_EV():\n",
    "    print(\"test1\")\n",
    "    global counter_EV \n",
    "    counter_EV = 1\n",
    "def Update_Import():\n",
    "    print(\"test2\")\n",
    "    global counter_import\n",
    "    counter_import = 1\n",
    "\n",
    "def Downdate_EV():\n",
    "    global counter_EV \n",
    "    counter_EV = 0\n",
    "def Downdate_Import():\n",
    "    global counter_import\n",
    "    counter_import = 0\n",
    "\n",
    "# check if the car i is EV or imported\n",
    "def check_EV(i):\n",
    "    return ((fuel[i] == 'Hybrid') or (fuel[i] == \"Plug-In Hybrid\"))\n",
    "\n",
    "def check_import(i):\n",
    "    return (imported[i] == 1)\n",
    "\n",
    "def check_constraints():\n",
    "    total_size = sum([s[k] for k in items])\n",
    "    total_budget = sum([budget[k] for k in items])\n",
    "    if ((total_size > ParkCap) or (total_budget > Budget)):\n",
    "        items.pop()\n",
    "        return True\n",
    "    else:\n",
    "        return False"
   ]
  },
  {
   "cell_type": "code",
   "execution_count": 93,
   "metadata": {},
   "outputs": [
    {
     "name": "stdout",
     "output_type": "stream",
     "text": [
      "test2\n",
      "test2\n",
      "test2\n",
      "test2\n",
      "test2\n",
      "test2\n",
      "test2\n",
      "test2\n",
      "test2\n",
      "test2\n",
      "test2\n",
      "test2\n",
      "test2\n",
      "test2\n",
      "test2\n",
      "test2\n",
      "test2\n",
      "test2\n",
      "test2\n",
      "test2\n",
      "test2\n",
      "test2\n",
      "test2\n",
      "test2\n",
      "test2\n",
      "test2\n",
      "test2\n",
      "test2\n",
      "test2\n",
      "test2\n",
      "test2\n",
      "test2\n",
      "test2\n",
      "test2\n",
      "test2\n",
      "test2\n"
     ]
    }
   ],
   "source": [
    "while True:\n",
    "    # Find the most valuable item\n",
    "    i = np.argmax(value_per_size)\n",
    "    if value_per_size[i] == 0:\n",
    "        break\n",
    "    else:\n",
    "        ev_record.append(check_EV(i))\n",
    "        import_record.append(check_import(i))\n",
    "        if (check_price(i) >= check_price(i+1)):\n",
    "            items.append(i)\n",
    "            # update the counter if necessary\n",
    "            if check_EV(i):\n",
    "                Update_EV()\n",
    "            elif check_import(i):\n",
    "                Update_Import()\n",
    "            value_per_size[i] = 0  \n",
    "            if(check_constraints()):\n",
    "                should_break=True\n",
    "        else:\n",
    "            items.append(i+1)\n",
    "            # update the counter if necessary\n",
    "            if check_EV(i+1):\n",
    "                Update_EV()\n",
    "            elif check_import(i+1):\n",
    "                Update_Import()\n",
    "            value_per_size[i+1] = 0  \n",
    "            if(check_constraints()):\n",
    "                should_break=True\n",
    "    if (should_break):\n",
    "        break"
   ]
  },
  {
   "cell_type": "code",
   "execution_count": 96,
   "metadata": {},
   "outputs": [
    {
     "name": "stdout",
     "output_type": "stream",
     "text": [
      "Total Number of cars ready to sell:  3223\n",
      "Total car value: $ 45042160.949999996\n",
      "Total Size of cars:  27387 m^2\n",
      "Total buying cost amount: $ [ 7360.   24903.25 12520.   ... 35235.   41149.35 26200.  ]\n",
      "------------------------------------------\n",
      "Parking Lot Capacity:  16646 m^2\n",
      "Available Budget Amount: $ 18721911\n",
      "---------------------------------------------------------------\n",
      "Dealership Decision Optimizer Greedy System(D-DOGS) is working....\n",
      "---------------------------------------------------------------\n",
      "88 cars sold\n",
      "Profit: $ 10146820.549999999\n",
      "Actual Size of cars sold:  731 m^2\n",
      "Actual budget spent: $ 18668631.45\n"
     ]
    }
   ],
   "source": [
    "print(\"Total Number of cars ready to sell: \", N)\n",
    "print(\"Total car value: $\",np.sum(profit))\n",
    "print(\"Total Size of cars: \",size, \"m^2\")\n",
    "print(\"Total buying cost amount: $\", budget)\n",
    "print(\"------------------------------------------\")\n",
    "print(\"Parking Lot Capacity: \",ParkCap, \"m^2\")\n",
    "print(\"Available Budget Amount: $\", Budget)\n",
    "\n",
    "\n",
    "print(\"---------------------------------------------------------------\")\n",
    "print(\"Dealership Decision Optimizer Greedy System(D-DOGS) is working....\")\n",
    "print(\"---------------------------------------------------------------\")\n",
    "print(len(items), \"cars sold\")\n",
    "print(\"Profit: $\", sum(profit[items]))\n",
    "print(\"Actual Size of cars sold: \", sum(s[items]), \"m^2\")\n",
    "print(\"Actual budget spent: $\", sum(budget[items]))"
   ]
  },
  {
   "cell_type": "code",
   "execution_count": 89,
   "metadata": {},
   "outputs": [
    {
     "name": "stdout",
     "output_type": "stream",
     "text": [
      "Mean profit for Hybrid or Plug-In Hybrid cars: 8294.533146067415\n",
      "Mean profit for Gasoline cars: 14363.661758436943\n"
     ]
    }
   ],
   "source": [
    "hybrid_or_plug_in_profit = df_new[df_new['fuel_type'].isin(['Hybrid', 'Plug-In Hybrid'])]['Profit'].mean()\n",
    "\n",
    "# Calculate the mean profit for Gasoline cars\n",
    "gasoline_profit = df_new[df_new['fuel_type'] == 'Gasoline']['Profit'].mean()\n",
    "\n",
    "# Print the results\n",
    "print(\"Mean profit for Hybrid or Plug-In Hybrid cars:\", hybrid_or_plug_in_profit)\n",
    "print(\"Mean profit for Gasoline cars:\", gasoline_profit)"
   ]
  },
  {
   "cell_type": "code",
   "execution_count": 91,
   "metadata": {},
   "outputs": [
    {
     "name": "stdout",
     "output_type": "stream",
     "text": [
      "Mean profit for Hybrid or Plug-In Hybrid cars: 14400.783993174062\n",
      "Mean profit for Gasoline cars: 13620.598634812286\n"
     ]
    }
   ],
   "source": [
    "hybrid_or_plug_in_profit = df_new[df_new['imported'] == 1]['Profit'].mean()\n",
    "\n",
    "# Calculate the mean profit for Gasoline cars\n",
    "gasoline_profit = df_new[df_new['imported'] == 0]['Profit'].mean()\n",
    "\n",
    "# Print the results\n",
    "print(\"Mean profit for Hybrid or Plug-In Hybrid cars:\", hybrid_or_plug_in_profit)\n",
    "print(\"Mean profit for Gasoline cars:\", gasoline_profit)"
   ]
  },
  {
   "cell_type": "code",
   "execution_count": null,
   "metadata": {},
   "outputs": [],
   "source": []
  }
 ],
 "metadata": {
  "kernelspec": {
   "display_name": "base",
   "language": "python",
   "name": "python3"
  },
  "language_info": {
   "codemirror_mode": {
    "name": "ipython",
    "version": 3
   },
   "file_extension": ".py",
   "mimetype": "text/x-python",
   "name": "python",
   "nbconvert_exporter": "python",
   "pygments_lexer": "ipython3",
   "version": "3.12.8"
  }
 },
 "nbformat": 4,
 "nbformat_minor": 2
}
